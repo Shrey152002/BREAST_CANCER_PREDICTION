{
  "nbformat": 4,
  "nbformat_minor": 0,
  "metadata": {
    "colab": {
      "provenance": [],
      "gpuType": "T4"
    },
    "kernelspec": {
      "name": "python3",
      "display_name": "Python 3"
    },
    "language_info": {
      "name": "python"
    },
    "accelerator": "GPU"
  },
  "cells": [
    {
      "cell_type": "code",
      "execution_count": null,
      "metadata": {
        "id": "PBnVDZdZrG8S"
      },
      "outputs": [],
      "source": [
        "import tensorflow as tf\n",
        "import pandas as pd\n",
        "import numpy as np\n",
        "from tensorflow.keras import datasets,layers,models\n",
        "import matplotlib.pyplot as plt"
      ]
    },
    {
      "cell_type": "code",
      "source": [
        "(X_train,Y_train),(X_test,Y_test)=datasets.cifar10.load_data()"
      ],
      "metadata": {
        "id": "sa9q1GPjsN_G",
        "colab": {
          "base_uri": "https://localhost:8080/"
        },
        "outputId": "9f497cd8-3394-438c-8d00-97ed6cdf05ce"
      },
      "execution_count": null,
      "outputs": [
        {
          "output_type": "stream",
          "name": "stdout",
          "text": [
            "Downloading data from https://www.cs.toronto.edu/~kriz/cifar-10-python.tar.gz\n",
            "170498071/170498071 [==============================] - 3s 0us/step\n"
          ]
        }
      ]
    },
    {
      "cell_type": "code",
      "source": [
        "X_train.shape"
      ],
      "metadata": {
        "colab": {
          "base_uri": "https://localhost:8080/"
        },
        "id": "ztISesO-sfLV",
        "outputId": "1fcfa30b-4c90-4951-9631-af27cb0b4ce1"
      },
      "execution_count": null,
      "outputs": [
        {
          "output_type": "execute_result",
          "data": {
            "text/plain": [
              "(50000, 32, 32, 3)"
            ]
          },
          "metadata": {},
          "execution_count": 3
        }
      ]
    },
    {
      "cell_type": "code",
      "source": [
        "Y_train"
      ],
      "metadata": {
        "colab": {
          "base_uri": "https://localhost:8080/"
        },
        "id": "6bjfyYOevJQ5",
        "outputId": "729441d1-1a6e-4906-c8f4-fb9ac91b9b05"
      },
      "execution_count": null,
      "outputs": [
        {
          "output_type": "execute_result",
          "data": {
            "text/plain": [
              "array([[6],\n",
              "       [9],\n",
              "       [9],\n",
              "       ...,\n",
              "       [9],\n",
              "       [1],\n",
              "       [1]], dtype=uint8)"
            ]
          },
          "metadata": {},
          "execution_count": 4
        }
      ]
    },
    {
      "cell_type": "code",
      "source": [
        "classes=[\"airplane\",\"automobile\",\"bird\",\"cat\",\"deer\",\"dog\",\"frog\",\"horse\",\"ship\",\"truck\"]"
      ],
      "metadata": {
        "id": "EScWqEypu00T"
      },
      "execution_count": null,
      "outputs": []
    },
    {
      "cell_type": "code",
      "source": [
        "Y_train=Y_train.reshape(-1,)\n",
        "Y_train[:5]"
      ],
      "metadata": {
        "colab": {
          "base_uri": "https://localhost:8080/"
        },
        "id": "M4DetPdEvxgY",
        "outputId": "67ce012c-05e0-4164-e60e-a925bee95ee3"
      },
      "execution_count": null,
      "outputs": [
        {
          "output_type": "execute_result",
          "data": {
            "text/plain": [
              "array([6, 9, 9, 4, 1], dtype=uint8)"
            ]
          },
          "metadata": {},
          "execution_count": 6
        }
      ]
    },
    {
      "cell_type": "code",
      "source": [
        "Y_test = Y_test.reshape(-1,)"
      ],
      "metadata": {
        "id": "n16xt9jQPiks"
      },
      "execution_count": null,
      "outputs": []
    },
    {
      "cell_type": "code",
      "source": [
        "def plot_sample(X,y,index):\n",
        "\n",
        "   plt.figure(figsize=(15,2))\n",
        "   plt.imshow(X_train[index])\n",
        "   plt.xlabel(classes[y[index]])"
      ],
      "metadata": {
        "id": "ZWedAgi4t34Q"
      },
      "execution_count": null,
      "outputs": []
    },
    {
      "cell_type": "code",
      "source": [
        "plot_sample(X_train,Y_train,0)"
      ],
      "metadata": {
        "colab": {
          "base_uri": "https://localhost:8080/",
          "height": 237
        },
        "id": "Hzz3PPKRt17K",
        "outputId": "c30aeede-b0f4-49aa-915f-076202f9f113"
      },
      "execution_count": null,
      "outputs": [
        {
          "output_type": "display_data",
          "data": {
            "text/plain": [
              "<Figure size 1500x200 with 1 Axes>"
            ],
            "image/png": "[encoded data removed]"
          },
          "metadata": {}
        }
      ]
    },
    {
      "cell_type": "code",
      "source": [
        "X_train[0]/255.0"
      ],
      "metadata": {
        "colab": {
          "base_uri": "https://localhost:8080/"
        },
        "id": "etuVBNoHwqgO",
        "outputId": "74eed517-28bc-40d0-9238-b998a84899c3"
      },
      "execution_count": null,
      "outputs": [
        {
          "output_type": "execute_result",
          "data": {
            "text/plain": [
              "array([[[0.23137255, 0.24313725, 0.24705882],\n",
              "        [0.16862745, 0.18039216, 0.17647059],\n",
              "        [0.19607843, 0.18823529, 0.16862745],\n",
              "        ...,\n",
              "        [0.61960784, 0.51764706, 0.42352941],\n",
              "        [0.59607843, 0.49019608, 0.4       ],\n",
              "        [0.58039216, 0.48627451, 0.40392157]],\n",
              "\n",
              "       [[0.0627451 , 0.07843137, 0.07843137],\n",
              "        [0.        , 0.        , 0.        ],\n",
              "        [0.07058824, 0.03137255, 0.        ],\n",
              "        ...,\n",
              "        [0.48235294, 0.34509804, 0.21568627],\n",
              "        [0.46666667, 0.3254902 , 0.19607843],\n",
              "        [0.47843137, 0.34117647, 0.22352941]],\n",
              "\n",
              "       [[0.09803922, 0.09411765, 0.08235294],\n",
              "        [0.0627451 , 0.02745098, 0.        ],\n",
              "        [0.19215686, 0.10588235, 0.03137255],\n",
              "        ...,\n",
              "        [0.4627451 , 0.32941176, 0.19607843],\n",
              "        [0.47058824, 0.32941176, 0.19607843],\n",
              "        [0.42745098, 0.28627451, 0.16470588]],\n",
              "\n",
              "       ...,\n",
              "\n",
              "       [[0.81568627, 0.66666667, 0.37647059],\n",
              "        [0.78823529, 0.6       , 0.13333333],\n",
              "        [0.77647059, 0.63137255, 0.10196078],\n",
              "        ...,\n",
              "        [0.62745098, 0.52156863, 0.2745098 ],\n",
              "        [0.21960784, 0.12156863, 0.02745098],\n",
              "        [0.20784314, 0.13333333, 0.07843137]],\n",
              "\n",
              "       [[0.70588235, 0.54509804, 0.37647059],\n",
              "        [0.67843137, 0.48235294, 0.16470588],\n",
              "        [0.72941176, 0.56470588, 0.11764706],\n",
              "        ...,\n",
              "        [0.72156863, 0.58039216, 0.36862745],\n",
              "        [0.38039216, 0.24313725, 0.13333333],\n",
              "        [0.3254902 , 0.20784314, 0.13333333]],\n",
              "\n",
              "       [[0.69411765, 0.56470588, 0.45490196],\n",
              "        [0.65882353, 0.50588235, 0.36862745],\n",
              "        [0.70196078, 0.55686275, 0.34117647],\n",
              "        ...,\n",
              "        [0.84705882, 0.72156863, 0.54901961],\n",
              "        [0.59215686, 0.4627451 , 0.32941176],\n",
              "        [0.48235294, 0.36078431, 0.28235294]]])"
            ]
          },
          "metadata": {},
          "execution_count": 10
        }
      ]
    },
    {
      "cell_type": "code",
      "source": [
        "X_test=X_test/255.0"
      ],
      "metadata": {
        "id": "JOGWJk5KD0XA"
      },
      "execution_count": null,
      "outputs": []
    },
    {
      "cell_type": "code",
      "source": [
        "cnn=models.Sequential([\n",
        "    layers.Conv2D(filters=64,kernel_size=(3,3),activation='relu',input_shape=(32,32,3)),\n",
        "    layers.MaxPooling2D((2,2)),\n",
        "     layers.Conv2D(filters=48,kernel_size=(3,3),activation='relu'),\n",
        "    layers.MaxPooling2D((2,2)),\n",
        "      layers.Conv2D(filters=32,kernel_size=(3,3),activation='relu'),\n",
        "    layers.MaxPooling2D((2,2)),\n",
        "    layers.Flatten(),\n",
        "    layers.Dense(64,activation='relu'),\n",
        "    layers.Dense(10,activation='softmax')\n",
        "])"
      ],
      "metadata": {
        "id": "bS9Fz1USEE8T"
      },
      "execution_count": null,
      "outputs": []
    },
    {
      "cell_type": "code",
      "source": [
        "cnn.compile(optimizer='adam',\n",
        "              loss='sparse_categorical_crossentropy',\n",
        "              metrics=['accuracy'])"
      ],
      "metadata": {
        "id": "IsoeukHrMQfJ"
      },
      "execution_count": null,
      "outputs": []
    },
    {
      "cell_type": "code",
      "source": [
        "cnn.fit(X_train, Y_train, epochs=100)"
      ],
      "metadata": {
        "colab": {
          "base_uri": "https://localhost:8080/"
        },
        "id": "Vi7K4kDRMT02",
        "outputId": "57023fa4-6b0c-4c5b-f0ca-04ab91745662"
      },
      "execution_count": null,
      "outputs": [
        {
          "output_type": "stream",
          "name": "stdout",
          "text": [
            "Epoch 1/100\n",
            "1563/1563 [==============================] - 11s 5ms/step - loss: 2.0001 - accuracy: 0.3173\n",
            "Epoch 2/100\n",
            "1563/1563 [==============================] - 6s 4ms/step - loss: 1.5735 - accuracy: 0.4292\n",
            "Epoch 3/100\n",
            "1563/1563 [==============================] - 7s 4ms/step - loss: 1.4608 - accuracy: 0.4747\n",
            "Epoch 4/100\n",
            "1563/1563 [==============================] - 6s 4ms/step - loss: 1.3719 - accuracy: 0.5112\n",
            "Epoch 5/100\n",
            "1563/1563 [==============================] - 7s 4ms/step - loss: 1.2753 - accuracy: 0.5509\n",
            "Epoch 6/100\n",
            "1563/1563 [==============================] - 6s 4ms/step - loss: 1.2015 - accuracy: 0.5779\n",
            "Epoch 7/100\n",
            "1563/1563 [==============================] - 7s 4ms/step - loss: 1.1457 - accuracy: 0.5969\n",
            "Epoch 8/100\n",
            "1563/1563 [==============================] - 6s 4ms/step - loss: 1.0996 - accuracy: 0.6165\n",
            "Epoch 9/100\n",
            "1563/1563 [==============================] - 7s 4ms/step - loss: 1.0516 - accuracy: 0.6302\n",
            "Epoch 10/100\n",
            "1563/1563 [==============================] - 6s 4ms/step - loss: 1.0126 - accuracy: 0.6459\n",
            "Epoch 11/100\n",
            "1563/1563 [==============================] - 7s 4ms/step - loss: 0.9755 - accuracy: 0.6590\n",
            "Epoch 12/100\n",
            "1563/1563 [==============================] - 6s 4ms/step - loss: 0.9555 - accuracy: 0.6651\n",
            "Epoch 13/100\n",
            "1563/1563 [==============================] - 7s 4ms/step - loss: 0.9344 - accuracy: 0.6724\n",
            "Epoch 14/100\n",
            "1563/1563 [==============================] - 6s 4ms/step - loss: 0.9037 - accuracy: 0.6850\n",
            "Epoch 15/100\n",
            "1563/1563 [==============================] - 7s 4ms/step - loss: 0.8855 - accuracy: 0.6911\n",
            "Epoch 16/100\n",
            "1563/1563 [==============================] - 6s 4ms/step - loss: 0.8657 - accuracy: 0.6980\n",
            "Epoch 17/100\n",
            "1563/1563 [==============================] - 7s 4ms/step - loss: 0.8466 - accuracy: 0.7056\n",
            "Epoch 18/100\n",
            "1563/1563 [==============================] - 6s 4ms/step - loss: 0.8339 - accuracy: 0.7097\n",
            "Epoch 19/100\n",
            "1563/1563 [==============================] - 7s 4ms/step - loss: 0.8214 - accuracy: 0.7141\n",
            "Epoch 20/100\n",
            "1563/1563 [==============================] - 6s 4ms/step - loss: 0.8125 - accuracy: 0.7172\n",
            "Epoch 21/100\n",
            "1563/1563 [==============================] - 7s 5ms/step - loss: 0.8009 - accuracy: 0.7213\n",
            "Epoch 22/100\n",
            "1563/1563 [==============================] - 6s 4ms/step - loss: 0.7847 - accuracy: 0.7272\n",
            "Epoch 23/100\n",
            "1563/1563 [==============================] - 7s 4ms/step - loss: 0.7742 - accuracy: 0.7307\n",
            "Epoch 24/100\n",
            "1563/1563 [==============================] - 6s 4ms/step - loss: 0.7713 - accuracy: 0.7316\n",
            "Epoch 25/100\n",
            "1563/1563 [==============================] - 7s 4ms/step - loss: 0.7618 - accuracy: 0.7350\n",
            "Epoch 26/100\n",
            "1563/1563 [==============================] - 7s 5ms/step - loss: 0.7550 - accuracy: 0.7377\n",
            "Epoch 27/100\n",
            "1563/1563 [==============================] - 7s 4ms/step - loss: 0.7481 - accuracy: 0.7408\n",
            "Epoch 28/100\n",
            "1563/1563 [==============================] - 6s 4ms/step - loss: 0.7446 - accuracy: 0.7402\n",
            "Epoch 29/100\n",
            "1563/1563 [==============================] - 7s 4ms/step - loss: 0.7358 - accuracy: 0.7456\n",
            "Epoch 30/100\n",
            "1563/1563 [==============================] - 6s 4ms/step - loss: 0.7302 - accuracy: 0.7468\n",
            "Epoch 31/100\n",
            "1563/1563 [==============================] - 7s 5ms/step - loss: 0.7227 - accuracy: 0.7487\n",
            "Epoch 32/100\n",
            "1563/1563 [==============================] - 6s 4ms/step - loss: 0.7139 - accuracy: 0.7511\n",
            "Epoch 33/100\n",
            "1563/1563 [==============================] - 7s 4ms/step - loss: 0.7149 - accuracy: 0.7508\n",
            "Epoch 34/100\n",
            "1563/1563 [==============================] - 6s 4ms/step - loss: 0.7090 - accuracy: 0.7539\n",
            "Epoch 35/100\n",
            "1563/1563 [==============================] - 7s 4ms/step - loss: 0.7034 - accuracy: 0.7547\n",
            "Epoch 36/100\n",
            "1563/1563 [==============================] - 6s 4ms/step - loss: 0.6867 - accuracy: 0.7610\n",
            "Epoch 37/100\n",
            "1563/1563 [==============================] - 7s 4ms/step - loss: 0.6919 - accuracy: 0.7615\n",
            "Epoch 38/100\n",
            "1563/1563 [==============================] - 6s 4ms/step - loss: 0.6938 - accuracy: 0.7600\n",
            "Epoch 39/100\n",
            "1563/1563 [==============================] - 7s 4ms/step - loss: 0.6879 - accuracy: 0.7614\n",
            "Epoch 40/100\n",
            "1563/1563 [==============================] - 6s 4ms/step - loss: 0.6855 - accuracy: 0.7631\n",
            "Epoch 41/100\n",
            "1563/1563 [==============================] - 7s 4ms/step - loss: 0.6765 - accuracy: 0.7660\n",
            "Epoch 42/100\n",
            "1563/1563 [==============================] - 6s 4ms/step - loss: 0.6675 - accuracy: 0.7674\n",
            "Epoch 43/100\n",
            "1563/1563 [==============================] - 7s 4ms/step - loss: 0.6736 - accuracy: 0.7656\n",
            "Epoch 44/100\n",
            "1563/1563 [==============================] - 6s 4ms/step - loss: 0.6641 - accuracy: 0.7709\n",
            "Epoch 45/100\n",
            "1563/1563 [==============================] - 7s 4ms/step - loss: 0.6582 - accuracy: 0.7701\n",
            "Epoch 46/100\n",
            "1563/1563 [==============================] - 6s 4ms/step - loss: 0.6554 - accuracy: 0.7718\n",
            "Epoch 47/100\n",
            "1563/1563 [==============================] - 7s 4ms/step - loss: 0.6514 - accuracy: 0.7726\n",
            "Epoch 48/100\n",
            "1563/1563 [==============================] - 6s 4ms/step - loss: 0.6573 - accuracy: 0.7702\n",
            "Epoch 49/100\n",
            "1563/1563 [==============================] - 7s 4ms/step - loss: 0.6385 - accuracy: 0.7778\n",
            "Epoch 50/100\n",
            "1563/1563 [==============================] - 7s 4ms/step - loss: 0.6442 - accuracy: 0.7774\n",
            "Epoch 51/100\n",
            "1563/1563 [==============================] - 7s 4ms/step - loss: 0.6382 - accuracy: 0.7792\n",
            "Epoch 52/100\n",
            "1563/1563 [==============================] - 6s 4ms/step - loss: 0.6294 - accuracy: 0.7794\n",
            "Epoch 53/100\n",
            "1563/1563 [==============================] - 7s 4ms/step - loss: 0.6315 - accuracy: 0.7804\n",
            "Epoch 54/100\n",
            "1563/1563 [==============================] - 7s 4ms/step - loss: 0.6386 - accuracy: 0.7786\n",
            "Epoch 55/100\n",
            "1563/1563 [==============================] - 6s 4ms/step - loss: 0.6291 - accuracy: 0.7821\n",
            "Epoch 56/100\n",
            "1563/1563 [==============================] - 7s 4ms/step - loss: 0.6226 - accuracy: 0.7846\n",
            "Epoch 57/100\n",
            "1563/1563 [==============================] - 6s 4ms/step - loss: 0.6247 - accuracy: 0.7852\n",
            "Epoch 58/100\n",
            "1563/1563 [==============================] - 7s 4ms/step - loss: 0.6200 - accuracy: 0.7868\n",
            "Epoch 59/100\n",
            "1563/1563 [==============================] - 6s 4ms/step - loss: 0.6108 - accuracy: 0.7879\n",
            "Epoch 60/100\n",
            "1563/1563 [==============================] - 7s 4ms/step - loss: 0.6172 - accuracy: 0.7861\n",
            "Epoch 61/100\n",
            "1563/1563 [==============================] - 6s 4ms/step - loss: 0.6120 - accuracy: 0.7896\n",
            "Epoch 62/100\n",
            "1563/1563 [==============================] - 7s 4ms/step - loss: 0.6092 - accuracy: 0.7910\n",
            "Epoch 63/100\n",
            "1563/1563 [==============================] - 6s 4ms/step - loss: 0.6045 - accuracy: 0.7901\n",
            "Epoch 64/100\n",
            "1563/1563 [==============================] - 7s 4ms/step - loss: 0.6043 - accuracy: 0.7911\n",
            "Epoch 65/100\n",
            "1563/1563 [==============================] - 6s 4ms/step - loss: 0.6093 - accuracy: 0.7894\n",
            "Epoch 66/100\n",
            "1563/1563 [==============================] - 7s 4ms/step - loss: 0.6003 - accuracy: 0.7929\n",
            "Epoch 67/100\n",
            "1563/1563 [==============================] - 6s 4ms/step - loss: 0.5923 - accuracy: 0.7949\n",
            "Epoch 68/100\n",
            "1563/1563 [==============================] - 7s 4ms/step - loss: 0.6033 - accuracy: 0.7923\n",
            "Epoch 69/100\n",
            "1563/1563 [==============================] - 7s 4ms/step - loss: 0.5937 - accuracy: 0.7960\n",
            "Epoch 70/100\n",
            "1563/1563 [==============================] - 7s 4ms/step - loss: 0.5966 - accuracy: 0.7939\n",
            "Epoch 71/100\n",
            "1563/1563 [==============================] - 6s 4ms/step - loss: 0.5883 - accuracy: 0.7965\n",
            "Epoch 72/100\n",
            "1563/1563 [==============================] - 7s 4ms/step - loss: 0.5846 - accuracy: 0.7981\n",
            "Epoch 73/100\n",
            "1563/1563 [==============================] - 6s 4ms/step - loss: 0.5930 - accuracy: 0.7959\n",
            "Epoch 74/100\n",
            "1563/1563 [==============================] - 7s 4ms/step - loss: 0.5837 - accuracy: 0.7992\n",
            "Epoch 75/100\n",
            "1563/1563 [==============================] - 6s 4ms/step - loss: 0.5918 - accuracy: 0.7967\n",
            "Epoch 76/100\n",
            "1563/1563 [==============================] - 7s 4ms/step - loss: 0.5915 - accuracy: 0.7954\n",
            "Epoch 77/100\n",
            "1563/1563 [==============================] - 6s 4ms/step - loss: 0.5739 - accuracy: 0.8013\n",
            "Epoch 78/100\n",
            "1563/1563 [==============================] - 7s 4ms/step - loss: 0.5875 - accuracy: 0.7970\n",
            "Epoch 79/100\n",
            "1563/1563 [==============================] - 6s 4ms/step - loss: 0.5839 - accuracy: 0.8004\n",
            "Epoch 80/100\n",
            "1563/1563 [==============================] - 7s 4ms/step - loss: 0.5787 - accuracy: 0.8016\n",
            "Epoch 81/100\n",
            "1563/1563 [==============================] - 6s 4ms/step - loss: 0.5789 - accuracy: 0.8011\n",
            "Epoch 82/100\n",
            "1563/1563 [==============================] - 7s 4ms/step - loss: 0.5733 - accuracy: 0.8036\n",
            "Epoch 83/100\n",
            "1563/1563 [==============================] - 6s 4ms/step - loss: 0.5704 - accuracy: 0.8038\n",
            "Epoch 84/100\n",
            "1563/1563 [==============================] - 7s 4ms/step - loss: 0.5669 - accuracy: 0.8048\n",
            "Epoch 85/100\n",
            "1563/1563 [==============================] - 6s 4ms/step - loss: 0.5776 - accuracy: 0.8034\n",
            "Epoch 86/100\n",
            "1563/1563 [==============================] - 7s 4ms/step - loss: 0.5713 - accuracy: 0.8052\n",
            "Epoch 87/100\n",
            "1563/1563 [==============================] - 6s 4ms/step - loss: 0.5716 - accuracy: 0.8030\n",
            "Epoch 88/100\n",
            "1563/1563 [==============================] - 7s 4ms/step - loss: 0.5676 - accuracy: 0.8061\n",
            "Epoch 89/100\n",
            "1563/1563 [==============================] - 6s 4ms/step - loss: 0.5741 - accuracy: 0.8029\n",
            "Epoch 90/100\n",
            "1563/1563 [==============================] - 7s 5ms/step - loss: 0.5719 - accuracy: 0.8035\n",
            "Epoch 91/100\n",
            "1563/1563 [==============================] - 6s 4ms/step - loss: 0.5546 - accuracy: 0.8095\n",
            "Epoch 92/100\n",
            "1563/1563 [==============================] - 7s 4ms/step - loss: 0.5660 - accuracy: 0.8064\n",
            "Epoch 93/100\n",
            "1563/1563 [==============================] - 6s 4ms/step - loss: 0.5687 - accuracy: 0.8048\n",
            "Epoch 94/100\n",
            "1563/1563 [==============================] - 7s 4ms/step - loss: 0.5592 - accuracy: 0.8103\n",
            "Epoch 95/100\n",
            "1563/1563 [==============================] - 6s 4ms/step - loss: 0.5566 - accuracy: 0.8092\n",
            "Epoch 96/100\n",
            "1563/1563 [==============================] - 7s 4ms/step - loss: 0.5723 - accuracy: 0.8051\n",
            "Epoch 97/100\n",
            "1563/1563 [==============================] - 6s 4ms/step - loss: 0.5504 - accuracy: 0.8123\n",
            "Epoch 98/100\n",
            "1563/1563 [==============================] - 7s 4ms/step - loss: 0.5668 - accuracy: 0.8094\n",
            "Epoch 99/100\n",
            "1563/1563 [==============================] - 6s 4ms/step - loss: 0.5525 - accuracy: 0.8135\n",
            "Epoch 100/100\n",
            "1563/1563 [==============================] - 7s 5ms/step - loss: 0.5622 - accuracy: 0.8088\n"
          ]
        },
        {
          "output_type": "execute_result",
          "data": {
            "text/plain": [
              "<keras.src.callbacks.History at 0x7af866dc3760>"
            ]
          },
          "metadata": {},
          "execution_count": 14
        }
      ]
    },
    {
      "cell_type": "code",
      "source": [
        "cnn.evaluate(X_test,Y_test)"
      ],
      "metadata": {
        "colab": {
          "base_uri": "https://localhost:8080/"
        },
        "id": "TZsaKk9FMVkY",
        "outputId": "f04f8b6b-011a-4a53-91e9-8fe360877ef6"
      },
      "execution_count": null,
      "outputs": [
        {
          "output_type": "stream",
          "name": "stdout",
          "text": [
            "313/313 [==============================] - 1s 3ms/step - loss: 3.5299 - accuracy: 0.1021\n"
          ]
        },
        {
          "output_type": "execute_result",
          "data": {
            "text/plain": [
              "[3.5298731327056885, 0.10209999978542328]"
            ]
          },
          "metadata": {},
          "execution_count": 15
        }
      ]
    },
    {
      "cell_type": "code",
      "source": [
        "y_pred = cnn.predict(X_test)\n",
        "y_pred[:5]"
      ],
      "metadata": {
        "colab": {
          "base_uri": "https://localhost:8080/"
        },
        "id": "cx4m3jJdNQS2",
        "outputId": "50650e72-e670-4607-822d-ff209251fb65"
      },
      "execution_count": null,
      "outputs": [
        {
          "output_type": "stream",
          "name": "stdout",
          "text": [
            "313/313 [==============================] - 1s 2ms/step\n"
          ]
        },
        {
          "output_type": "execute_result",
          "data": {
            "text/plain": [
              "array([[3.0667614e-02, 7.5789844e-03, 9.5030174e-02, 2.9947376e-01,\n",
              "        2.0572594e-01, 7.6310545e-02, 1.9013779e-01, 2.7547132e-02,\n",
              "        5.0934669e-02, 1.6593367e-02],\n",
              "       [5.6145880e-03, 1.4710123e-05, 1.4541134e-01, 3.7045979e-01,\n",
              "        4.2223319e-01, 1.1304210e-02, 4.2939898e-02, 4.4326734e-05,\n",
              "        1.7657232e-03, 2.1222218e-04],\n",
              "       [7.6128868e-03, 4.6031834e-03, 8.2347892e-02, 2.3222402e-01,\n",
              "        2.4568595e-01, 3.9510015e-02, 3.5883865e-01, 4.9602282e-03,\n",
              "        1.4494811e-02, 9.7223120e-03],\n",
              "       [1.7663555e-02, 9.5691276e-04, 9.8739438e-02, 4.1809034e-01,\n",
              "        2.4929105e-01, 4.1750871e-02, 1.4804767e-01, 7.9658348e-03,\n",
              "        1.5318962e-02, 2.1754107e-03],\n",
              "       [2.1840658e-02, 6.3023986e-03, 1.2462122e-01, 2.0141590e-01,\n",
              "        3.3579427e-01, 6.9618441e-02, 1.7061312e-01, 2.9300787e-02,\n",
              "        2.7948430e-02, 1.2544784e-02]], dtype=float32)"
            ]
          },
          "metadata": {},
          "execution_count": 16
        }
      ]
    },
    {
      "cell_type": "code",
      "source": [
        "y_classes = [np.argmax(element) for element in y_pred]\n",
        "y_classes[:5]"
      ],
      "metadata": {
        "colab": {
          "base_uri": "https://localhost:8080/"
        },
        "id": "utGdWtXxNUdd",
        "outputId": "f1742dce-6b2f-4d76-e769-ee011e8532a9"
      },
      "execution_count": null,
      "outputs": [
        {
          "output_type": "execute_result",
          "data": {
            "text/plain": [
              "[3, 4, 6, 3, 4]"
            ]
          },
          "metadata": {},
          "execution_count": 17
        }
      ]
    },
    {
      "cell_type": "code",
      "source": [
        "plot_sample(X_test, Y_test,1)"
      ],
      "metadata": {
        "colab": {
          "base_uri": "https://localhost:8080/",
          "height": 237
        },
        "id": "zhKXYU10NahU",
        "outputId": "5c56f769-9a02-497f-dc55-c3839a21340f"
      },
      "execution_count": null,
      "outputs": [
        {
          "output_type": "display_data",
          "data": {
            "text/plain": [
              "<Figure size 1500x200 with 1 Axes>"
            ],
            "image/png": "[encoded data removed]"
          },
          "metadata": {}
        }
      ]
    },
    {
      "cell_type": "code",
      "source": [
        "classes[y_classes[1]]"
      ],
      "metadata": {
        "colab": {
          "base_uri": "https://localhost:8080/",
          "height": 36
        },
        "id": "ghy-0tfTNh86",
        "outputId": "2407de66-cf91-4329-97d9-178ab828dceb"
      },
      "execution_count": null,
      "outputs": [
        {
          "output_type": "execute_result",
          "data": {
            "text/plain": [
              "'deer'"
            ],
            "application/vnd.google.colaboratory.intrinsic+json": {
              "type": "string"
            }
          },
          "metadata": {},
          "execution_count": 25
        }
      ]
    },
    {
      "cell_type": "code",
      "source": [],
      "metadata": {
        "id": "1W_s__soWdvs"
      },
      "execution_count": null,
      "outputs": []
    }
  ]
}